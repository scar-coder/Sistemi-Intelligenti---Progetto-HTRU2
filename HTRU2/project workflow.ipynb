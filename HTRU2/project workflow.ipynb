{
 "cells": [
  {
   "cell_type": "markdown",
   "id": "33abf0a7",
   "metadata": {},
   "source": [
    "### Clona template progetto (scarica template)"
   ]
  },
  {
   "cell_type": "code",
   "execution_count": null,
   "id": "60d59f4e",
   "metadata": {
    "vscode": {
     "languageId": "shellscript"
    }
   },
   "outputs": [],
   "source": [
    "!make clone"
   ]
  },
  {
   "cell_type": "markdown",
   "id": "3764bc37",
   "metadata": {},
   "source": [
    "### 0 Help"
   ]
  },
  {
   "cell_type": "code",
   "execution_count": 1,
   "id": "8bbbec23",
   "metadata": {
    "vscode": {
     "languageId": "shellscript"
    }
   },
   "outputs": [
    {
     "name": "stderr",
     "output_type": "stream",
     "text": [
      "make: *** No rule to make target 'help'.  Stop.\n"
     ]
    }
   ],
   "source": [
    "!make help"
   ]
  },
  {
   "cell_type": "markdown",
   "id": "6d9d025a",
   "metadata": {},
   "source": [
    "### 1️ Installa le dipendenze:"
   ]
  },
  {
   "cell_type": "code",
   "execution_count": null,
   "id": "8045ec27",
   "metadata": {
    "vscode": {
     "languageId": "shellscript"
    }
   },
   "outputs": [
    {
     "name": "stdout",
     "output_type": "stream",
     "text": [
      "python -m venv venv"
     ]
    },
    {
     "name": "stderr",
     "output_type": "stream",
     "text": [
      "Error: [Errno 13] Permission denied: 'c:\\\\Users\\\\scarc\\\\AppData\\\\Local\\\\Microsoft\\\\PowerToys\\\\NewPlus\\\\Modelli\\\\Machine Learning project template\\\\Project\\\\venv\\\\Scripts\\\\python.exe'\n",
      "make: *** [makefile:30: install_win] Error 1\n"
     ]
    },
    {
     "name": "stdout",
     "output_type": "stream",
     "text": [
      "\n"
     ]
    }
   ],
   "source": [
    "!make install_win"
   ]
  },
  {
   "cell_type": "markdown",
   "id": "e1a2fe46",
   "metadata": {},
   "source": [
    "### 2️ Prepara il dataset:"
   ]
  },
  {
   "cell_type": "code",
   "execution_count": null,
   "id": "9aa02ac4",
   "metadata": {
    "vscode": {
     "languageId": "shellscript"
    }
   },
   "outputs": [],
   "source": [
    "!make prepare_data"
   ]
  },
  {
   "cell_type": "markdown",
   "id": "e3d40f3c",
   "metadata": {},
   "source": [
    "### 3️ Addestra il modello:"
   ]
  },
  {
   "cell_type": "code",
   "execution_count": null,
   "id": "8567d318",
   "metadata": {
    "vscode": {
     "languageId": "shellscript"
    }
   },
   "outputs": [],
   "source": [
    "!make train"
   ]
  },
  {
   "cell_type": "markdown",
   "id": "33d05b45",
   "metadata": {},
   "source": [
    "### 4️ Esegue i test:"
   ]
  },
  {
   "cell_type": "code",
   "execution_count": null,
   "id": "7a81d4b5",
   "metadata": {
    "vscode": {
     "languageId": "shellscript"
    }
   },
   "outputs": [],
   "source": [
    "!make test"
   ]
  },
  {
   "cell_type": "markdown",
   "id": "4784ddc0",
   "metadata": {},
   "source": [
    "### 5️ Pulisce i file temporanei:"
   ]
  },
  {
   "cell_type": "code",
   "execution_count": null,
   "id": "9da48cfd",
   "metadata": {
    "vscode": {
     "languageId": "shellscript"
    }
   },
   "outputs": [],
   "source": [
    "!make clean"
   ]
  }
 ],
 "metadata": {
  "kernelspec": {
   "display_name": "Python 3",
   "language": "python",
   "name": "python3"
  },
  "language_info": {
   "codemirror_mode": {
    "name": "ipython",
    "version": 3
   },
   "file_extension": ".py",
   "mimetype": "text/x-python",
   "name": "python",
   "nbconvert_exporter": "python",
   "pygments_lexer": "ipython3",
   "version": "3.12.6"
  }
 },
 "nbformat": 4,
 "nbformat_minor": 5
}
